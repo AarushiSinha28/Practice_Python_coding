{
 "cells": [
  {
   "cell_type": "code",
   "execution_count": 1,
   "metadata": {},
   "outputs": [],
   "source": [
    "#variable are dynamicly typed language"
   ]
  },
  {
   "cell_type": "code",
   "execution_count": 2,
   "metadata": {},
   "outputs": [],
   "source": [
    "#type is ditermined in the run time."
   ]
  },
  {
   "cell_type": "code",
   "execution_count": 3,
   "metadata": {},
   "outputs": [
    {
     "name": "stdout",
     "output_type": "stream",
     "text": [
      "n = 0\n"
     ]
    }
   ],
   "source": [
    "n = 0\n",
    "print('n =',n)\n"
   ]
  },
  {
   "cell_type": "code",
   "execution_count": 5,
   "metadata": {},
   "outputs": [
    {
     "name": "stdout",
     "output_type": "stream",
     "text": [
      "n = abc\n"
     ]
    }
   ],
   "source": [
    "n = \"abc\"\n",
    "print(\"n =\",n)"
   ]
  },
  {
   "cell_type": "code",
   "execution_count": null,
   "metadata": {},
   "outputs": [],
   "source": [
    "#multiple assignments"
   ]
  },
  {
   "cell_type": "code",
   "execution_count": 8,
   "metadata": {},
   "outputs": [
    {
     "name": "stdout",
     "output_type": "stream",
     "text": [
      "0 abc\n"
     ]
    }
   ],
   "source": [
    "n, m = 0, \"abc\"\n",
    "print(n,m)"
   ]
  },
  {
   "cell_type": "code",
   "execution_count": null,
   "metadata": {},
   "outputs": [],
   "source": [
    "#Increment"
   ]
  },
  {
   "cell_type": "code",
   "execution_count": null,
   "metadata": {},
   "outputs": [],
   "source": [
    "n = n+1    #good\n",
    "n +=1      #good\n",
    "n++        #bad"
   ]
  },
  {
   "cell_type": "code",
   "execution_count": null,
   "metadata": {},
   "outputs": [],
   "source": [
    "#none is null"
   ]
  },
  {
   "cell_type": "code",
   "execution_count": 11,
   "metadata": {},
   "outputs": [
    {
     "name": "stdout",
     "output_type": "stream",
     "text": [
      "n = None\n"
     ]
    }
   ],
   "source": [
    "n = 4\n",
    "n = None\n",
    "print('n =',n)"
   ]
  },
  {
   "cell_type": "code",
   "execution_count": null,
   "metadata": {},
   "outputs": [],
   "source": [
    "# If statements don't need parentheses or curly braces."
   ]
  },
  {
   "cell_type": "code",
   "execution_count": 13,
   "metadata": {},
   "outputs": [
    {
     "name": "stdout",
     "output_type": "stream",
     "text": [
      "3\n"
     ]
    }
   ],
   "source": [
    "n = 1\n",
    "if n > 2:\n",
    "    n -= 1\n",
    "elif n == 2:\n",
    "    n *= 2\n",
    "else:\n",
    "    n += 2\n",
    "print(n)"
   ]
  },
  {
   "cell_type": "code",
   "execution_count": null,
   "metadata": {},
   "outputs": [],
   "source": [
    "# Parentheses neede for multi-line conditions.\n",
    "# and = &&\n",
    "#or = ||"
   ]
  },
  {
   "cell_type": "code",
   "execution_count": 15,
   "metadata": {},
   "outputs": [
    {
     "name": "stdout",
     "output_type": "stream",
     "text": [
      "1 2\n"
     ]
    }
   ],
   "source": [
    "n, m = 1, 2\n",
    "if((n>2 and n != m) or n == m):\n",
    "    n += 1\n",
    "print(n,m)\n"
   ]
  },
  {
   "cell_type": "code",
   "execution_count": null,
   "metadata": {},
   "outputs": [],
   "source": [
    "# While loops are similar"
   ]
  },
  {
   "cell_type": "code",
   "execution_count": 17,
   "metadata": {},
   "outputs": [
    {
     "name": "stdout",
     "output_type": "stream",
     "text": [
      "0\n",
      "1\n",
      "2\n",
      "3\n",
      "4\n"
     ]
    }
   ],
   "source": [
    "n = 0\n",
    "while n<5:\n",
    "    print(n)\n",
    "    n += 1\n"
   ]
  },
  {
   "cell_type": "code",
   "execution_count": 18,
   "metadata": {},
   "outputs": [
    {
     "name": "stdout",
     "output_type": "stream",
     "text": [
      "0\n",
      "1\n",
      "2\n",
      "3\n",
      "4\n"
     ]
    }
   ],
   "source": [
    "for i in range (5):\n",
    "    print(i)"
   ]
  },
  {
   "cell_type": "code",
   "execution_count": 19,
   "metadata": {},
   "outputs": [
    {
     "name": "stdout",
     "output_type": "stream",
     "text": [
      "2\n",
      "3\n",
      "4\n",
      "5\n"
     ]
    }
   ],
   "source": [
    "for i in range(2,6):\n",
    "    print(i)\n"
   ]
  },
  {
   "cell_type": "code",
   "execution_count": 20,
   "metadata": {},
   "outputs": [
    {
     "name": "stdout",
     "output_type": "stream",
     "text": [
      "5\n",
      "4\n",
      "3\n",
      "2\n"
     ]
    }
   ],
   "source": [
    "for i in range(5,1,-1):\n",
    "    print(i)"
   ]
  },
  {
   "cell_type": "code",
   "execution_count": 21,
   "metadata": {},
   "outputs": [
    {
     "name": "stdout",
     "output_type": "stream",
     "text": [
      "2.5\n"
     ]
    }
   ],
   "source": [
    "# Division is decimal by default\n",
    "print(5/2)"
   ]
  },
  {
   "cell_type": "code",
   "execution_count": 22,
   "metadata": {},
   "outputs": [
    {
     "name": "stdout",
     "output_type": "stream",
     "text": [
      "2\n"
     ]
    }
   ],
   "source": [
    "# Double slash rounds down\n",
    "print(5//2)"
   ]
  },
  {
   "cell_type": "code",
   "execution_count": 23,
   "metadata": {},
   "outputs": [
    {
     "name": "stdout",
     "output_type": "stream",
     "text": [
      "-2\n"
     ]
    }
   ],
   "source": [
    "# Careful: most languages round towards 0 by default so negative numbers will round down.\n",
    "print(-3//2)"
   ]
  },
  {
   "cell_type": "code",
   "execution_count": 24,
   "metadata": {},
   "outputs": [
    {
     "name": "stdout",
     "output_type": "stream",
     "text": [
      "-1\n"
     ]
    }
   ],
   "source": [
    "# A workaround for rounding towards zero is to use decimal division and then convert to int.\n",
    "print(int(-3/2))"
   ]
  },
  {
   "cell_type": "code",
   "execution_count": 25,
   "metadata": {},
   "outputs": [
    {
     "name": "stdout",
     "output_type": "stream",
     "text": [
      "1\n"
     ]
    }
   ],
   "source": [
    "# Modding is similar to most languages.\n",
    "print(10 % 3)"
   ]
  },
  {
   "cell_type": "code",
   "execution_count": 26,
   "metadata": {},
   "outputs": [
    {
     "name": "stdout",
     "output_type": "stream",
     "text": [
      "2\n"
     ]
    }
   ],
   "source": [
    "# Except for negative values.\n",
    "print(-10 % 3)"
   ]
  },
  {
   "cell_type": "code",
   "execution_count": 27,
   "metadata": {},
   "outputs": [
    {
     "name": "stdout",
     "output_type": "stream",
     "text": [
      "1\n",
      "2\n",
      "1.4142135623730951\n",
      "8.0\n"
     ]
    }
   ],
   "source": [
    "import math\n",
    "\n",
    "# More math helpers\n",
    "print(math.floor(3/2))\n",
    "print(math.ceil(3/2))\n",
    "print(math.sqrt(2))\n",
    "print(math.pow(2,3))"
   ]
  },
  {
   "cell_type": "code",
   "execution_count": 35,
   "metadata": {},
   "outputs": [
    {
     "name": "stdout",
     "output_type": "stream",
     "text": [
      "1.6069380442589903e+60\n",
      "True\n"
     ]
    }
   ],
   "source": [
    "# Max / Min Int\n",
    "float(\"inf\")\n",
    "float(\"-inf\")\n",
    "\n",
    "# Python numbers are infinite so they never overflow \n",
    "import math\n",
    "print(math.pow(2,200))\n",
    "\n",
    "# But still less than infinity\n",
    "print(math.pow(2,200) < float(\"inf\"))"
   ]
  },
  {
   "cell_type": "code",
   "execution_count": 44,
   "metadata": {},
   "outputs": [
    {
     "name": "stdout",
     "output_type": "stream",
     "text": [
      "[1, 2, 3]\n"
     ]
    }
   ],
   "source": [
    "# Array (called list in python)\n",
    "arr = [1, 2, 3]\n",
    "print(arr)"
   ]
  },
  {
   "cell_type": "code",
   "execution_count": 45,
   "metadata": {},
   "outputs": [
    {
     "name": "stdout",
     "output_type": "stream",
     "text": [
      "[1, 2, 3, 4, 5]\n",
      "[1, 2, 3, 4]\n"
     ]
    }
   ],
   "source": [
    "# Dynamic array Can be used as a stack\n",
    "arr.append(4)\n",
    "arr.append(5)\n",
    "print(arr)\n",
    "arr.pop()\n",
    "print(arr)"
   ]
  },
  {
   "cell_type": "code",
   "execution_count": 46,
   "metadata": {},
   "outputs": [
    {
     "name": "stdout",
     "output_type": "stream",
     "text": [
      "[1, 7, 2, 3, 4]\n"
     ]
    }
   ],
   "source": [
    "arr.insert(1,7)\n",
    "print(arr)"
   ]
  },
  {
   "cell_type": "code",
   "execution_count": 47,
   "metadata": {},
   "outputs": [
    {
     "name": "stdout",
     "output_type": "stream",
     "text": [
      "[0, 7, 2, 0, 4]\n"
     ]
    }
   ],
   "source": [
    "arr[0] = 0\n",
    "arr[3] =0\n",
    "print(arr)\n"
   ]
  },
  {
   "cell_type": "code",
   "execution_count": 50,
   "metadata": {},
   "outputs": [
    {
     "name": "stdout",
     "output_type": "stream",
     "text": [
      "3\n",
      "2\n",
      "[2, 3]\n"
     ]
    }
   ],
   "source": [
    "# Careful: -1 is not out of bound, it's the last value\n",
    "ar = [1, 2, 3]\n",
    "print(ar[-1])\n",
    "print(ar[-2])\n",
    "print(ar[1:3])"
   ]
  },
  {
   "cell_type": "code",
   "execution_count": 51,
   "metadata": {},
   "outputs": [
    {
     "name": "stdout",
     "output_type": "stream",
     "text": [
      "1 2 3\n"
     ]
    }
   ],
   "source": [
    "#unpacking\n",
    "a, b, c = [1, 2, 3]\n",
    "print(a, b, c)"
   ]
  },
  {
   "cell_type": "code",
   "execution_count": 55,
   "metadata": {},
   "outputs": [
    {
     "name": "stdout",
     "output_type": "stream",
     "text": [
      "1\n",
      "2\n",
      "3\n",
      "1\n",
      "2\n",
      "3\n",
      "0 1\n",
      "1 2\n",
      "2 3\n"
     ]
    }
   ],
   "source": [
    "# loop through arrays\n",
    "nums = [1, 2, 3]\n",
    "\n",
    "# using index\n",
    "for i in range(len(nums)):\n",
    "    print(nums[i])\n",
    "\n",
    "# Without index\n",
    "for n in nums:\n",
    "    print(n)\n",
    "\n",
    "# With index and value\n",
    "for i,n in enumerate(nums):\n",
    "    print(i,n)"
   ]
  },
  {
   "cell_type": "code",
   "execution_count": 56,
   "metadata": {},
   "outputs": [
    {
     "name": "stdout",
     "output_type": "stream",
     "text": [
      "1 2\n",
      "3 4\n",
      "5 6\n"
     ]
    }
   ],
   "source": [
    "# loop through multiple arrays simultaneously with unpacking\n",
    "\n",
    "nums1 = [1, 3, 5]\n",
    "nums2 = [2, 4, 6]\n",
    "for n1,n2 in zip(nums1, nums2):\n",
    "    print(n1, n2)"
   ]
  },
  {
   "cell_type": "code",
   "execution_count": 61,
   "metadata": {},
   "outputs": [
    {
     "name": "stdout",
     "output_type": "stream",
     "text": [
      "[3, 2, 1]\n"
     ]
    }
   ],
   "source": [
    "# Reverse\n",
    "nums = [1, 2, 3]\n",
    "nums.reverse()\n",
    "print(nums)"
   ]
  },
  {
   "cell_type": "code",
   "execution_count": null,
   "metadata": {},
   "outputs": [],
   "source": []
  },
  {
   "cell_type": "code",
   "execution_count": 62,
   "metadata": {},
   "outputs": [
    {
     "name": "stdout",
     "output_type": "stream",
     "text": [
      "[3, 4, 5, 7, 8]\n",
      "[8, 7, 5, 4, 3]\n"
     ]
    }
   ],
   "source": [
    "# Sorthing\n",
    "arr = [5, 4, 7, 3, 8]\n",
    "arr.sort()\n",
    "print(arr)\n",
    "\n",
    "arr.sort(reverse=True)\n",
    "print(arr)"
   ]
  },
  {
   "cell_type": "code",
   "execution_count": 64,
   "metadata": {},
   "outputs": [
    {
     "name": "stdout",
     "output_type": "stream",
     "text": [
      "['alice', 'bob', 'doe', 'jane']\n",
      "['bob', 'doe', 'jane', 'alice']\n"
     ]
    }
   ],
   "source": [
    "arr = [\"bob\", \"alice\",\"jane\",\"doe\"]\n",
    "arr.sort()\n",
    "print(arr)\n",
    "\n",
    "# Custome sort (by length of the string)\n",
    "arr.sort(key= lambda x: len(x))\n",
    "print(arr)"
   ]
  },
  {
   "cell_type": "code",
   "execution_count": 65,
   "metadata": {},
   "outputs": [
    {
     "name": "stdout",
     "output_type": "stream",
     "text": [
      "[0, 2, 4, 6, 8]\n"
     ]
    }
   ],
   "source": [
    "#List comprehension\n",
    "arr = [i+i for i in range(5)]\n",
    "print(arr)"
   ]
  },
  {
   "cell_type": "code",
   "execution_count": 68,
   "metadata": {},
   "outputs": [
    {
     "name": "stdout",
     "output_type": "stream",
     "text": [
      "[[0, 0, 0, 0], [0, 0, 0, 0], [0, 0, 0, 0], [0, 0, 0, 0]]\n",
      "[[0, 0, 0, 0], [0, 0, 0, 0], [0, 0, 0, 0], [0, 0, 0, 0]]\n"
     ]
    }
   ],
   "source": [
    "# 2-D Lists\n",
    "arr = [[0] * 4 for i in range(4)]\n",
    "print(arr)\n",
    "\n",
    "# This won't work\n",
    "arr = [[0] * 4] * 4\n",
    "print(arr)"
   ]
  },
  {
   "cell_type": "code",
   "execution_count": 70,
   "metadata": {},
   "outputs": [
    {
     "name": "stdout",
     "output_type": "stream",
     "text": [
      "ab\n",
      "abcdef\n"
     ]
    }
   ],
   "source": [
    "# Stirng are similar to arrays\n",
    "s = \"abc\"\n",
    "print(s[0:2])\n",
    "\n",
    "# So this creates a new string\n",
    "s += \"def\"\n",
    "print(s)"
   ]
  },
  {
   "cell_type": "code",
   "execution_count": 72,
   "metadata": {},
   "outputs": [
    {
     "name": "stdout",
     "output_type": "stream",
     "text": [
      "246\n",
      "123123\n"
     ]
    }
   ],
   "source": [
    "# Valid numeric string can be convertes\n",
    "print(int(\"123\") + int(\"123\"))\n",
    "\n",
    "# And numbers can be converted to strings\n",
    "print(str(123) + str(123))\n",
    "\n"
   ]
  },
  {
   "cell_type": "code",
   "execution_count": 73,
   "metadata": {},
   "outputs": [
    {
     "name": "stdout",
     "output_type": "stream",
     "text": [
      "97\n",
      "98\n"
     ]
    }
   ],
   "source": [
    "# In rare cases oyu may need ASCII value of a char\n",
    "print(ord(\"a\"))\n",
    "print(ord(\"b\"))"
   ]
  },
  {
   "cell_type": "code",
   "execution_count": 75,
   "metadata": {},
   "outputs": [
    {
     "name": "stdout",
     "output_type": "stream",
     "text": [
      "abcdef\n"
     ]
    }
   ],
   "source": [
    "# Combine a list of string (with an empty string delimitor)\n",
    "String = [\"ab\", \"cd\", \"ef\"]\n",
    "print(\"\".join(String))"
   ]
  },
  {
   "cell_type": "code",
   "execution_count": 79,
   "metadata": {},
   "outputs": [
    {
     "name": "stdout",
     "output_type": "stream",
     "text": [
      "deque([1, 2])\n",
      "deque([2])\n",
      "deque([1, 2])\n",
      "deque([1])\n"
     ]
    }
   ],
   "source": [
    "# Queues (double ended queue)\n",
    "from collections import deque\n",
    "\n",
    "queue = deque()\n",
    "queue.append(1)\n",
    "queue.append(2)\n",
    "print(queue)\n",
    "\n",
    "queue.popleft()\n",
    "print(queue)\n",
    "\n",
    "queue.appendleft(1)\n",
    "print(queue)\n",
    "\n",
    "queue.pop()\n",
    "print(queue)"
   ]
  },
  {
   "cell_type": "code",
   "execution_count": 82,
   "metadata": {},
   "outputs": [
    {
     "name": "stdout",
     "output_type": "stream",
     "text": [
      "{1, 2}\n",
      "2\n",
      "True\n",
      "True\n",
      "False\n",
      "False\n"
     ]
    }
   ],
   "source": [
    "# HashSet\n",
    "mySet = set()\n",
    "\n",
    "mySet.add(1)\n",
    "mySet.add(2)\n",
    "print(mySet)\n",
    "print(len(mySet))\n",
    "\n",
    "print(1 in mySet)\n",
    "print(2 in mySet)\n",
    "print(3 in mySet)\n",
    "\n",
    "mySet.remove(2)\n",
    "print(2 in mySet)"
   ]
  },
  {
   "cell_type": "code",
   "execution_count": 83,
   "metadata": {},
   "outputs": [
    {
     "name": "stdout",
     "output_type": "stream",
     "text": [
      "{1, 2, 3}\n",
      "{0, 1, 2, 3, 4}\n"
     ]
    }
   ],
   "source": [
    "# List to set\n",
    "print(set([1, 2, 3]))\n",
    "\n",
    "# set comprehension\n",
    "mySet = { i for i in range(5)}\n",
    "print(mySet)"
   ]
  },
  {
   "cell_type": "code",
   "execution_count": 88,
   "metadata": {},
   "outputs": [
    {
     "name": "stdout",
     "output_type": "stream",
     "text": [
      "{'alice': 88, 'bob': 77}\n",
      "2\n",
      "80\n",
      "True\n",
      "False\n",
      "{'alice': 90, 'bob': 70}\n"
     ]
    }
   ],
   "source": [
    "# HashMap (aka dict)\n",
    "myMap = {}\n",
    "myMap[\"alice\"] = 88\n",
    "myMap[\"bob\"] = 77\n",
    "print(myMap)\n",
    "print(len(myMap))\n",
    "\n",
    "myMap[\"alice\"] = 80\n",
    "print(myMap[\"alice\"])\n",
    "\n",
    "print(\"alice\" in myMap)\n",
    "myMap.pop(\"alice\")\n",
    "print(\"alice\" in myMap)\n",
    "\n",
    "myMap = {\"alice\": 90, \"bob\": 70}\n",
    "print(myMap)"
   ]
  },
  {
   "cell_type": "code",
   "execution_count": 91,
   "metadata": {},
   "outputs": [
    {
     "name": "stdout",
     "output_type": "stream",
     "text": [
      "alice 90\n",
      "bob 70\n",
      "90\n",
      "70\n",
      "alice 90\n",
      "bob 70\n"
     ]
    }
   ],
   "source": [
    "# Dict comprehension (hash are called dictionary in pyhton)\n",
    "myMap = {\"alice\": 90,\"bob\": 70}\n",
    "for key in myMap:\n",
    "    print(key, myMap[key])\n",
    "\n",
    "for val in myMap.values():\n",
    "    print(val)\n",
    "\n",
    "for key, val in myMap.items():\n",
    "    print(key, val)"
   ]
  },
  {
   "cell_type": "code",
   "execution_count": 94,
   "metadata": {},
   "outputs": [
    {
     "name": "stdout",
     "output_type": "stream",
     "text": [
      "(1, 2, 3)\n",
      "1\n",
      "3\n",
      "3\n",
      "True\n"
     ]
    }
   ],
   "source": [
    "# Tuple are like arrays but immutable\n",
    "tup = (1, 2, 3)\n",
    "print(tup)\n",
    "print(tup[0])\n",
    "print(tup[-1])\n",
    "\n",
    "# can be used as key for hash map/set\n",
    "\n",
    "myMap ={(1,2): 3}\n",
    "print(myMap[(1,2)])\n",
    "\n",
    "mySet = set()\n",
    "mySet.add((1,2))\n",
    "print((1,2) in mySet)\n"
   ]
  },
  {
   "cell_type": "code",
   "execution_count": 5,
   "metadata": {},
   "outputs": [],
   "source": [
    "# Heaps\n",
    "student_marks={\n",
    "    'ABC':[90,98,70],\n",
    "    'CDE':89\n",
    "}"
   ]
  },
  {
   "cell_type": "code",
   "execution_count": 2,
   "metadata": {},
   "outputs": [
    {
     "data": {
      "text/plain": [
       "89"
      ]
     },
     "execution_count": 2,
     "metadata": {},
     "output_type": "execute_result"
    }
   ],
   "source": [
    "student_marks['CDE']"
   ]
  },
  {
   "cell_type": "code",
   "execution_count": 3,
   "metadata": {},
   "outputs": [
    {
     "name": "stdout",
     "output_type": "stream",
     "text": [
      "ABC\n",
      "CDE\n"
     ]
    }
   ],
   "source": [
    "for keys in student_marks:\n",
    "    print(keys)"
   ]
  },
  {
   "cell_type": "code",
   "execution_count": 4,
   "metadata": {},
   "outputs": [
    {
     "ename": "KeyError",
     "evalue": "89",
     "output_type": "error",
     "traceback": [
      "\u001b[1;31m---------------------------------------------------------------------------\u001b[0m",
      "\u001b[1;31mKeyError\u001b[0m                                  Traceback (most recent call last)",
      "Cell \u001b[1;32mIn[4], line 1\u001b[0m\n\u001b[1;32m----> 1\u001b[0m \u001b[43mstudent_marks\u001b[49m\u001b[43m[\u001b[49m\u001b[38;5;241;43m89\u001b[39;49m\u001b[43m]\u001b[49m\n",
      "\u001b[1;31mKeyError\u001b[0m: 89"
     ]
    }
   ],
   "source": [
    "student_marks[89]"
   ]
  },
  {
   "cell_type": "code",
   "execution_count": 6,
   "metadata": {},
   "outputs": [
    {
     "data": {
      "text/plain": [
       "258"
      ]
     },
     "execution_count": 6,
     "metadata": {},
     "output_type": "execute_result"
    }
   ],
   "source": [
    "sum(student_marks['ABC'])"
   ]
  },
  {
   "cell_type": "code",
   "execution_count": 7,
   "metadata": {},
   "outputs": [],
   "source": [
    "a=[8,23,56,78,12]\n",
    "\n",
    "# print square root of each element in list a. Final output: list[square roots]\n",
    "# sqrt() of python\n",
    "\n",
    "import math\n",
    "\n",
    "def square_root(n):\n",
    "    return math.sqrt(n)\n",
    "\n",
    "def round_upto_3(a):\n",
    "    return '%.3f'%a\n",
    "sqare1 = list(map(square_root, a))\n",
    "sqare2 = list(map(round_upto_3,sqare1))\n",
    "sqare2 = list(map(float,sqare2)) # Type casting\n",
    "\n",
    "\n",
    "\n",
    "\n"
   ]
  },
  {
   "cell_type": "code",
   "execution_count": 8,
   "metadata": {},
   "outputs": [
    {
     "name": "stdout",
     "output_type": "stream",
     "text": [
      "[2.828, 4.796, 7.483, 8.832, 3.464]\n"
     ]
    }
   ],
   "source": [
    "print(sqare2)"
   ]
  },
  {
   "cell_type": "code",
   "execution_count": 18,
   "metadata": {},
   "outputs": [
    {
     "name": "stdout",
     "output_type": "stream",
     "text": [
      "['2.8284', '4.7958', '7.4833', '8.8318', '3.4641']\n"
     ]
    }
   ],
   "source": [
    "a=[8,23,56,78,12]\n",
    "output=[]\n",
    "n=len(a)\n",
    "import math\n",
    "\n",
    "def square_roots(n):\n",
    "    return '%.4f'%math.sqrt(n)\n",
    "\n",
    "for i in range(n):\n",
    "   output.append(square_roots(a[i]) )\n",
    "\n",
    "\n",
    "\n",
    "\n",
    "print(output)"
   ]
  },
  {
   "cell_type": "code",
   "execution_count": 16,
   "metadata": {},
   "outputs": [
    {
     "name": "stdout",
     "output_type": "stream",
     "text": [
      "['2.82843', '7.48331', '3.46410']\n"
     ]
    }
   ],
   "source": [
    "# find square root of elements in even position(index,place) in input list\n",
    "a=[8,23,56,78,12]\n",
    "output1 = []\n",
    "n = len(a)\n",
    "import math\n",
    "\n",
    "def square_root1(n):\n",
    "    return '%.5f'%math.sqrt(n)\n",
    "\n",
    "for i in range(n):\n",
    "    if i%2 ==0:\n",
    "        output1.append(square_root1(a[i]))\n",
    "\n",
    "print(output1)\n"
   ]
  },
  {
   "cell_type": "code",
   "execution_count": 12,
   "metadata": {},
   "outputs": [
    {
     "data": {
      "text/plain": [
       "0.5"
      ]
     },
     "execution_count": 12,
     "metadata": {},
     "output_type": "execute_result"
    }
   ],
   "source": [
    "1/2"
   ]
  },
  {
   "cell_type": "code",
   "execution_count": 13,
   "metadata": {},
   "outputs": [
    {
     "data": {
      "text/plain": [
       "1"
      ]
     },
     "execution_count": 13,
     "metadata": {},
     "output_type": "execute_result"
    }
   ],
   "source": [
    "1%2"
   ]
  },
  {
   "cell_type": "code",
   "execution_count": 14,
   "metadata": {},
   "outputs": [
    {
     "data": {
      "text/plain": [
       "0"
      ]
     },
     "execution_count": 14,
     "metadata": {},
     "output_type": "execute_result"
    }
   ],
   "source": [
    "2%2"
   ]
  },
  {
   "cell_type": "code",
   "execution_count": 19,
   "metadata": {},
   "outputs": [
    {
     "name": "stdout",
     "output_type": "stream",
     "text": [
      "['4.79583', '8.83176']\n"
     ]
    }
   ],
   "source": [
    "#odd position Square root\n",
    "import math\n",
    "output2 = []\n",
    "n = len(a)\n",
    "\n",
    "def square_root2(n):\n",
    "    return '%.5f'%math.sqrt(n)\n",
    "\n",
    "for i in range(n):\n",
    "    if i%2 != 0:\n",
    "        output2.append(square_root2(a[i]))\n",
    "\n",
    "print(output2)\n"
   ]
  },
  {
   "cell_type": "code",
   "execution_count": 20,
   "metadata": {},
   "outputs": [
    {
     "name": "stdout",
     "output_type": "stream",
     "text": [
      "0\n",
      "21\n",
      "-------\n",
      "1\n",
      "323\n",
      "-------\n",
      "2\n",
      "45\n",
      "-------\n",
      "3\n",
      "6767\n",
      "-------\n",
      "4\n",
      "887\n",
      "-------\n",
      "5\n",
      "234\n",
      "-------\n",
      "6\n",
      "342\n",
      "-------\n",
      "7\n",
      "324\n",
      "-------\n",
      "8\n",
      "32\n",
      "-------\n"
     ]
    }
   ],
   "source": [
    "a=[21,323,45,6767,887,234,342,324,32]\n",
    "\n",
    "for i,j in enumerate(a):\n",
    "    print(i)\n",
    "    print(j)\n",
    "    print('-------')"
   ]
  },
  {
   "cell_type": "code",
   "execution_count": 21,
   "metadata": {},
   "outputs": [
    {
     "name": "stdout",
     "output_type": "stream",
     "text": [
      "['17.97220', '82.26178', '15.29706', '18.00000']\n"
     ]
    }
   ],
   "source": [
    "#odd position Square root\n",
    "import math\n",
    "output2 = []\n",
    "n = len(a)\n",
    "\n",
    "def square_root2(n):\n",
    "    return '%.5f'%math.sqrt(n)\n",
    "\n",
    "for i,j in enumerate(a):\n",
    "    if i%2 != 0:\n",
    "        output2.append(square_root2(j))\n",
    "\n",
    "print(output2)"
   ]
  },
  {
   "cell_type": "code",
   "execution_count": 22,
   "metadata": {},
   "outputs": [],
   "source": [
    "list_x=[1,2,3,4]\n",
    "list_y=[7,6,8,9]\n",
    "list_z=[10,11,12,13]\n",
    "permutations=[]\n",
    "for i in list_x:\n",
    "        for j in list_y:\n",
    "            for k in list_z:\n",
    "                permutations.append([i , j, k])"
   ]
  },
  {
   "cell_type": "code",
   "execution_count": 23,
   "metadata": {},
   "outputs": [
    {
     "name": "stdout",
     "output_type": "stream",
     "text": [
      "[[1, 7, 10], [1, 7, 11], [1, 7, 12], [1, 7, 13], [1, 6, 10], [1, 6, 11], [1, 6, 12], [1, 6, 13], [1, 8, 10], [1, 8, 11], [1, 8, 12], [1, 8, 13], [1, 9, 10], [1, 9, 11], [1, 9, 12], [1, 9, 13], [2, 7, 10], [2, 7, 11], [2, 7, 12], [2, 7, 13], [2, 6, 10], [2, 6, 11], [2, 6, 12], [2, 6, 13], [2, 8, 10], [2, 8, 11], [2, 8, 12], [2, 8, 13], [2, 9, 10], [2, 9, 11], [2, 9, 12], [2, 9, 13], [3, 7, 10], [3, 7, 11], [3, 7, 12], [3, 7, 13], [3, 6, 10], [3, 6, 11], [3, 6, 12], [3, 6, 13], [3, 8, 10], [3, 8, 11], [3, 8, 12], [3, 8, 13], [3, 9, 10], [3, 9, 11], [3, 9, 12], [3, 9, 13], [4, 7, 10], [4, 7, 11], [4, 7, 12], [4, 7, 13], [4, 6, 10], [4, 6, 11], [4, 6, 12], [4, 6, 13], [4, 8, 10], [4, 8, 11], [4, 8, 12], [4, 8, 13], [4, 9, 10], [4, 9, 11], [4, 9, 12], [4, 9, 13]]\n"
     ]
    }
   ],
   "source": [
    "print(permutations)"
   ]
  },
  {
   "cell_type": "code",
   "execution_count": 25,
   "metadata": {},
   "outputs": [
    {
     "name": "stdout",
     "output_type": "stream",
     "text": [
      "[[0, 0, 0]]\n",
      "[[0, 0, 0]]\n"
     ]
    }
   ],
   "source": [
    "x=1\n",
    "y=1\n",
    "z=1\n",
    "n=2\n",
    "list_x = []\n",
    "list_y = []\n",
    "list_z = []\n",
    "for i in range(x+1):\n",
    "    list_x.append(i)\n",
    "for i in range(y+1):\n",
    "    list_y.append(i)\n",
    "for i in range(z+1):\n",
    "    list_z.append(i) \n",
    "permutations=[]\n",
    "for i in list_x:\n",
    "    for j in list_y:\n",
    "        for k in list_z:\n",
    "            permutations.append([i, j, k])\n",
    "print(permutations)\n",
    "output = []\n",
    "for element in permutations:\n",
    "    if sum(element)!=n:\n",
    "        output.append(element)\n",
    "    \n",
    "print(output)"
   ]
  },
  {
   "cell_type": "code",
   "execution_count": 34,
   "metadata": {},
   "outputs": [
    {
     "name": "stdout",
     "output_type": "stream",
     "text": [
      "[[0, 2, 6], [0, 2, 6], [0, 2, 6], [0, 2, 6], [0, 2, 6], [0, 2, 6], [0, 3, 6], [0, 3, 6], [0, 3, 6], [0, 3, 6], [0, 3, 6], [0, 3, 6], [0, 4, 6], [0, 4, 6], [0, 4, 6], [0, 4, 6], [0, 4, 6], [0, 4, 6], [0, 5, 6], [0, 5, 6], [0, 5, 6], [0, 5, 6], [0, 5, 6], [0, 5, 6]]\n"
     ]
    }
   ],
   "source": [
    "\"\"\"\n",
    "x=5\n",
    "y=3\n",
    "z=6\n",
    "\n",
    "0<= i <=x+3\n",
    "2<= j <=y+2\n",
    "0<= k <=z-1\n",
    "\n",
    "permutations = [[i,j,k]]\n",
    "\n",
    "output [] product of elements in [i,j,k] is equal to 8\n",
    "\n",
    "\"\"\"\n",
    "\n",
    "x=5\n",
    "y=3\n",
    "z=6\n",
    "\n",
    "list_x1 = []\n",
    "list_y1 = []\n",
    "list_z1 = []\n",
    "\n",
    "for i in range (x+4):\n",
    "    list_x1.append(i)\n",
    "for i in range (2,y+3):\n",
    "    list_y1.append(i)\n",
    "for i in range(z):\n",
    "    list_z1.append(z)\n",
    "\n",
    "permutation1 = []\n",
    "\n",
    "for i in list_x1:\n",
    "    for j in list_y1:\n",
    "        for k in list_z1:\n",
    "            permutation1.append([i, j, k])\n",
    "\n",
    "output = []\n",
    "\n",
    "for f in permutation1:\n",
    "   if f[0]*f[1]*f[2] == 0:\n",
    "       output.append(f)\n",
    "        \n",
    "print(output)\n"
   ]
  },
  {
   "cell_type": "code",
   "execution_count": 35,
   "metadata": {},
   "outputs": [
    {
     "name": "stdout",
     "output_type": "stream",
     "text": [
      "10\n",
      "5\n",
      "35\n",
      "41\n",
      "52\n",
      "60\n",
      "70\n",
      "80\n"
     ]
    }
   ],
   "source": [
    "a = [10,5,35,41,52,60,70,80]\n",
    "\n",
    "for i in range(len(a)):\n",
    "\n",
    "    print(a[i])"
   ]
  },
  {
   "cell_type": "code",
   "execution_count": 5,
   "metadata": {},
   "outputs": [
    {
     "name": "stdout",
     "output_type": "stream",
     "text": [
      "[2, 7, 12, 17]\n"
     ]
    }
   ],
   "source": [
    "# FOrm a list containing numbers from 2 upto 20 with an increment of 5. Example: 2,7,12,17.....\n",
    "\n",
    "\n",
    "output = []\n",
    "for i in range(2,20,5):\n",
    "    output.append(i)\n",
    "\n",
    "print(output)\n"
   ]
  },
  {
   "cell_type": "code",
   "execution_count": 13,
   "metadata": {},
   "outputs": [
    {
     "name": "stdout",
     "output_type": "stream",
     "text": [
      "[1, 5, 2, 7, 9]\n"
     ]
    }
   ],
   "source": [
    "# Given a list containing float values. convert each element to an integer in one line of code.\n",
    "\n",
    "a=[1.23,5.67,2.45,7.89,9.0]\n",
    "b = list(map(int,a))\n",
    "print(b)\n",
    "\n",
    "\n",
    "\n",
    "\n"
   ]
  },
  {
   "cell_type": "code",
   "execution_count": 23,
   "metadata": {},
   "outputs": [
    {
     "name": "stdout",
     "output_type": "stream",
     "text": [
      "[1, 5, 2, 7, 9]\n",
      "[1, 5, 2, 7, 9]\n"
     ]
    }
   ],
   "source": [
    "output = []\n",
    "for i in range (len(a)):\n",
    "    output.append(int(a[i]))\n",
    "print(output)\n",
    "\n",
    "\n",
    "output = []\n",
    "for i in a:\n",
    "    output.append(int(i))\n",
    "print(output)"
   ]
  },
  {
   "cell_type": "code",
   "execution_count": 21,
   "metadata": {},
   "outputs": [
    {
     "name": "stdout",
     "output_type": "stream",
     "text": [
      "1.23\n",
      "5.67\n",
      "2.45\n",
      "7.89\n",
      "9.0\n"
     ]
    }
   ],
   "source": [
    "output = []\n",
    "for i in a :\n",
    "    print(i)"
   ]
  },
  {
   "cell_type": "code",
   "execution_count": 31,
   "metadata": {},
   "outputs": [
    {
     "name": "stdout",
     "output_type": "stream",
     "text": [
      "[[1, 2], [1, 4], [1, 6], [1, 78], [1, 9], [1, 10], [4, 2], [4, 4], [4, 6], [4, 78], [4, 9], [4, 10], [5, 2], [5, 4], [5, 6], [5, 78], [5, 9], [5, 10], [6, 2], [6, 4], [6, 6], [6, 78], [6, 9], [6, 10], [7, 2], [7, 4], [7, 6], [7, 78], [7, 9], [7, 10], [8, 2], [8, 4], [8, 6], [8, 78], [8, 9], [8, 10]]\n",
      "[3, 5, 7, 79, 10, 11, 6, 8, 10, 82, 13, 14, 7, 9, 11, 83, 14, 15, 8, 10, 12, 84, 15, 16, 9, 11, 13, 85, 16, 17, 10, 12, 14, 86, 17, 18]\n"
     ]
    }
   ],
   "source": [
    "# Given two lists print sum of all possible combintaions of elements of both lists.\n",
    "\n",
    "a=[1,4,5,6,7,8]\n",
    "b=[2,4,6,78,9,10]\n",
    "\n",
    "# Output =[3,7.....]\n",
    "\n",
    "list_a = []\n",
    "list_b = []\n",
    "\n",
    "for i in a:\n",
    "    for j in b:\n",
    "        list_a.append([i,j])\n",
    "\n",
    "print(list_a)\n",
    "\n",
    "for i in list_a:\n",
    "    list_b.append(sum(i))\n",
    "\n",
    "print(list_b)"
   ]
  },
  {
   "cell_type": "code",
   "execution_count": 37,
   "metadata": {},
   "outputs": [
    {
     "name": "stdout",
     "output_type": "stream",
     "text": [
      "[-33, -40, 55, 54, -2, -1, -5, 5, -15, 20, 26]\n",
      "match is awesome\n"
     ]
    }
   ],
   "source": [
    "a=[12,34,56,77,10,9,10,21,1,23,45]\n",
    "b=[45,74,1,23,12,10,15,16,16,3,19]\n",
    "\n",
    "n=5\n",
    "\n",
    "# match is awesome match if max difference between players of team a and team b is greater than  n\n",
    "\n",
    "l_a = []\n",
    "l_b = []\n",
    "\n",
    "def difference(x,y):\n",
    "    return (x-y)\n",
    "\n",
    "for i in range(0,len(a)):\n",
    "    l_a.append(difference(a[i],b[i]))\n",
    "\n",
    "print(l_a)\n",
    "\n",
    "if max(l_a) > n:\n",
    "    print(\"match is awesome\")\n",
    "\n",
    "\n",
    "\n",
    "    \n",
    "\n"
   ]
  },
  {
   "cell_type": "code",
   "execution_count": 38,
   "metadata": {},
   "outputs": [],
   "source": [
    "##### Strings in python\n",
    "\n",
    "\n",
    "s= \"My name is AArushi Sinha\"\n",
    "\n",
    "\n",
    "# String is a collection of character. String only stores characters . 'a','9'- characters enclosed in '' or \"\"\n",
    "# List is a collection of elements. List can store anything. [9,4,'a',[1,2,3,4]]\n"
   ]
  },
  {
   "cell_type": "code",
   "execution_count": 39,
   "metadata": {},
   "outputs": [
    {
     "name": "stdout",
     "output_type": "stream",
     "text": [
      "M\n"
     ]
    }
   ],
   "source": [
    "\n",
    "print(s[0])"
   ]
  },
  {
   "cell_type": "code",
   "execution_count": 40,
   "metadata": {},
   "outputs": [
    {
     "name": "stdout",
     "output_type": "stream",
     "text": [
      "My n\n"
     ]
    }
   ],
   "source": [
    "print(s[0:4]) # first 4 letters in string"
   ]
  },
  {
   "cell_type": "code",
   "execution_count": 48,
   "metadata": {},
   "outputs": [],
   "source": [
    "a=[1,2,3,4,6]\n",
    "\n",
    "st=\"assdsf\" # initialize empty string\n",
    "\n",
    "# appending in a string\n",
    "\n",
    "#st.append(list) # .append should be used only in list\n",
    "\n",
    "st = st + str(a) # string concatenation\n",
    "\n",
    "#st = str(a)"
   ]
  },
  {
   "cell_type": "code",
   "execution_count": 49,
   "metadata": {},
   "outputs": [
    {
     "name": "stdout",
     "output_type": "stream",
     "text": [
      "assdsf[1, 2, 3, 4, 6]\n"
     ]
    }
   ],
   "source": [
    "print(st)"
   ]
  },
  {
   "cell_type": "code",
   "execution_count": 50,
   "metadata": {},
   "outputs": [],
   "source": [
    "st = str(a)+st"
   ]
  },
  {
   "cell_type": "code",
   "execution_count": 51,
   "metadata": {},
   "outputs": [
    {
     "data": {
      "text/plain": [
       "'[1, 2, 3, 4, 6]assdsf[1, 2, 3, 4, 6]'"
      ]
     },
     "execution_count": 51,
     "metadata": {},
     "output_type": "execute_result"
    }
   ],
   "source": [
    "st"
   ]
  },
  {
   "cell_type": "code",
   "execution_count": 53,
   "metadata": {},
   "outputs": [],
   "source": [
    "st='My name is Aarushi Sinha'\n",
    "po=[]\n",
    "# Access each character in string\n",
    "\n",
    "# Method 1\n",
    "# using index\n",
    "for i in range(len(st)):\n",
    "    po.append(st[i])\n"
   ]
  },
  {
   "cell_type": "code",
   "execution_count": 54,
   "metadata": {},
   "outputs": [
    {
     "name": "stdout",
     "output_type": "stream",
     "text": [
      "['M', 'y', ' ', 'n', 'a', 'm', 'e', ' ', 'i', 's', ' ', 'A', 'a', 'r', 'u', 's', 'h', 'i', ' ', 'S', 'i', 'n', 'h', 'a']\n"
     ]
    }
   ],
   "source": [
    "print(po)"
   ]
  },
  {
   "cell_type": "code",
   "execution_count": 58,
   "metadata": {},
   "outputs": [
    {
     "name": "stdout",
     "output_type": "stream",
     "text": [
      "M True\n",
      "m\n",
      "------------\n",
      "my\n",
      "------------\n",
      "my \n",
      "------------\n",
      "my n\n",
      "------------\n",
      "my na\n",
      "------------\n",
      "my nam\n",
      "------------\n",
      "my name\n",
      "------------\n",
      "my name \n",
      "------------\n",
      "my name i\n",
      "------------\n",
      "my name is\n",
      "------------\n",
      "my name is \n",
      "------------\n",
      "A True\n",
      "my name is a\n",
      "------------\n",
      "my name is aa\n",
      "------------\n",
      "my name is aar\n",
      "------------\n",
      "my name is aaru\n",
      "------------\n",
      "my name is aarus\n",
      "------------\n",
      "my name is aarush\n",
      "------------\n",
      "my name is aarushi\n",
      "------------\n",
      "my name is aarushi \n",
      "------------\n",
      "S True\n",
      "my name is aarushi s\n",
      "------------\n",
      "my name is aarushi si\n",
      "------------\n",
      "my name is aarushi sin\n",
      "------------\n",
      "my name is aarushi sinh\n",
      "------------\n",
      "my name is aarushi sinha\n",
      "------------\n",
      "my name is aarushi sinha\n"
     ]
    }
   ],
   "source": [
    "# string is immutable\n",
    "st2=\"\"\n",
    "for i in range(len(st)):\n",
    "    st[i]\n",
    "    # if the character is in uppercase\n",
    "    if str.isupper(st[i]):\n",
    "        print(st[i] + ' ' + 'True')\n",
    "        st2=st2 + str.lower(st[i])\n",
    "    else:\n",
    "        st2=st2+st[i]\n",
    "\n",
    "    print(st2)\n",
    "    print('------------')\n",
    "\n",
    "print(st2)"
   ]
  },
  {
   "cell_type": "code",
   "execution_count": null,
   "metadata": {},
   "outputs": [],
   "source": [
    "'''You are given a string and your task is to swap cases. In other words, convert all lowercase letters to uppercase letters and vice versa.\n",
    "for example:-\n",
    "Www.HackerRank.com → wWW.hACKERrANK.COM\n",
    "Pythonist 2 → pYTHONIST 2  '''\n",
    "\n",
    "def swap_case(s):\n",
    "    \n",
    "    s_new=\"\"\n",
    "    ### Write your code here\n",
    "    \n",
    "    for i in range (len(s)):\n",
    "        s[i]\n",
    "        if str.isupper(s[i]):\n",
    "            s_new = s_new + str.lower(s[i])\n",
    "        else:\n",
    "            s_new = s_new + str.upper(s[i])\n",
    "        \n",
    "    return s_new\n",
    "\n",
    "if __name__ == '__main__':\n",
    "    s = input()\n",
    "    result = swap_case(s)\n",
    "    print(result)"
   ]
  },
  {
   "cell_type": "code",
   "execution_count": null,
   "metadata": {},
   "outputs": [],
   "source": []
  }
 ],
 "metadata": {
  "kernelspec": {
   "display_name": "env",
   "language": "python",
   "name": "python3"
  },
  "language_info": {
   "codemirror_mode": {
    "name": "ipython",
    "version": 3
   },
   "file_extension": ".py",
   "mimetype": "text/x-python",
   "name": "python",
   "nbconvert_exporter": "python",
   "pygments_lexer": "ipython3",
   "version": "3.10.7"
  }
 },
 "nbformat": 4,
 "nbformat_minor": 2
}
