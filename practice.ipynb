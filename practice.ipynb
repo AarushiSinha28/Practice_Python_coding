{
 "cells": [
  {
   "cell_type": "code",
   "execution_count": 1,
   "metadata": {},
   "outputs": [
    {
     "name": "stdout",
     "output_type": "stream",
     "text": [
      "n = 0\n"
     ]
    }
   ],
   "source": [
    "n = 0  # asinging the value 0 to variable n\n",
    "print('n =',n)  # printing the value of n "
   ]
  },
  {
   "cell_type": "code",
   "execution_count": 2,
   "metadata": {},
   "outputs": [
    {
     "name": "stdout",
     "output_type": "stream",
     "text": [
      "n = abc\n"
     ]
    },
    {
     "data": {
      "text/plain": [
       "str"
      ]
     },
     "execution_count": 2,
     "metadata": {},
     "output_type": "execute_result"
    }
   ],
   "source": [
    "n = \"abc\"  # storing the string value in variable n\n",
    "print(\"n =\",n)  # printing the value of n\n",
    "type(n)  # type of value stored in variable n"
   ]
  },
  {
   "cell_type": "code",
   "execution_count": 6,
   "metadata": {},
   "outputs": [
    {
     "name": "stdout",
     "output_type": "stream",
     "text": [
      "0 abc\n",
      "<class 'int'>\n",
      "<class 'str'>\n"
     ]
    }
   ],
   "source": [
    "n, m = 0, \"abc\"  # storing multiple values in a single line to different varibles\n",
    "print(n,m)   # \n",
    "\n",
    "print(type(n))  # type of value stored in variable n\n",
    "print(type(m))  # type of value stored in variable m"
   ]
  },
  {
   "cell_type": "code",
   "execution_count": null,
   "metadata": {},
   "outputs": [],
   "source": [
    "n = n+1    #good increment\n",
    "n +=1      #good shorthand operator\n",
    "n++        #bad"
   ]
  },
  {
   "cell_type": "code",
   "execution_count": 11,
   "metadata": {},
   "outputs": [
    {
     "name": "stdout",
     "output_type": "stream",
     "text": [
      "0\n",
      "0\n",
      "------------\n",
      "1\n",
      "1\n",
      "------------\n",
      "2\n",
      "2\n",
      "------------\n",
      "3\n",
      "3\n",
      "------------\n",
      "4\n",
      "4\n",
      "------------\n",
      "5\n",
      "5\n",
      "------------\n",
      "6\n",
      "6\n",
      "------------\n",
      "7\n",
      "7\n",
      "------------\n",
      "8\n",
      "8\n",
      "------------\n",
      "9\n",
      "9\n",
      "------------\n"
     ]
    }
   ],
   "source": [
    "for i in range(10):\n",
    "    print(i)\n",
    "    \n",
    "    print(i)\n",
    "    print(\"------------\")\n",
    "\n"
   ]
  },
  {
   "cell_type": "code",
   "execution_count": null,
   "metadata": {},
   "outputs": [],
   "source": []
  }
 ],
 "metadata": {
  "kernelspec": {
   "display_name": "env",
   "language": "python",
   "name": "python3"
  },
  "language_info": {
   "codemirror_mode": {
    "name": "ipython",
    "version": 3
   },
   "file_extension": ".py",
   "mimetype": "text/x-python",
   "name": "python",
   "nbconvert_exporter": "python",
   "pygments_lexer": "ipython3",
   "version": "3.10.7"
  }
 },
 "nbformat": 4,
 "nbformat_minor": 2
}
